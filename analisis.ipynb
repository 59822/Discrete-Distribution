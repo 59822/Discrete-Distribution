{
  "nbformat": 4,
  "nbformat_minor": 0,
  "metadata": {
    "colab": {
      "provenance": [],
      "authorship_tag": "ABX9TyOYyzc/tjWn/Qfmu2didu5O",
      "include_colab_link": true
    },
    "kernelspec": {
      "name": "python3",
      "display_name": "Python 3"
    },
    "language_info": {
      "name": "python"
    }
  },
  "cells": [
    {
      "cell_type": "markdown",
      "metadata": {
        "id": "view-in-github",
        "colab_type": "text"
      },
      "source": [
        "<a href=\"https://colab.research.google.com/github/59822/Discrete-Distribution/blob/main/analisis.ipynb\" target=\"_parent\"><img src=\"https://colab.research.google.com/assets/colab-badge.svg\" alt=\"Open In Colab\"/></a>"
      ]
    },
    {
      "cell_type": "code",
      "execution_count": 1,
      "metadata": {
        "colab": {
          "base_uri": "https://localhost:8080/",
          "height": 310
        },
        "id": "nXhzGErpP0sI",
        "outputId": "b0490dc0-f581-4960-f390-594f8a34b8f3"
      },
      "outputs": [
        {
          "output_type": "execute_result",
          "data": {
            "text/plain": [
              "   Pedidos por hora Día de la semana  Hora pico  Tiempo entre pedidos (min)  \\\n",
              "0                29          Domingo          0                    0.216505   \n",
              "1                 6            Lunes          1                    2.855356   \n",
              "2                40        Miércoles          0                    2.792230   \n",
              "3                21            Lunes          0                   23.646925   \n",
              "4                33          Domingo          0                    7.127791   \n",
              "\n",
              "   Empleados presentes                  Fecha y hora  \n",
              "0                    2 2023-01-01 00:00:00.000000000  \n",
              "1                    4 2023-01-01 04:22:55.887943971  \n",
              "2                    4 2023-01-01 08:45:51.775887943  \n",
              "3                    9 2023-01-01 13:08:47.663831915  \n",
              "4                    8 2023-01-01 17:31:43.551775887  "
            ],
            "text/html": [
              "\n",
              "  <div id=\"df-5c643d91-6020-4d95-9c5e-d91b2c144629\" class=\"colab-df-container\">\n",
              "    <div>\n",
              "<style scoped>\n",
              "    .dataframe tbody tr th:only-of-type {\n",
              "        vertical-align: middle;\n",
              "    }\n",
              "\n",
              "    .dataframe tbody tr th {\n",
              "        vertical-align: top;\n",
              "    }\n",
              "\n",
              "    .dataframe thead th {\n",
              "        text-align: right;\n",
              "    }\n",
              "</style>\n",
              "<table border=\"1\" class=\"dataframe\">\n",
              "  <thead>\n",
              "    <tr style=\"text-align: right;\">\n",
              "      <th></th>\n",
              "      <th>Pedidos por hora</th>\n",
              "      <th>Día de la semana</th>\n",
              "      <th>Hora pico</th>\n",
              "      <th>Tiempo entre pedidos (min)</th>\n",
              "      <th>Empleados presentes</th>\n",
              "      <th>Fecha y hora</th>\n",
              "    </tr>\n",
              "  </thead>\n",
              "  <tbody>\n",
              "    <tr>\n",
              "      <th>0</th>\n",
              "      <td>29</td>\n",
              "      <td>Domingo</td>\n",
              "      <td>0</td>\n",
              "      <td>0.216505</td>\n",
              "      <td>2</td>\n",
              "      <td>2023-01-01 00:00:00.000000000</td>\n",
              "    </tr>\n",
              "    <tr>\n",
              "      <th>1</th>\n",
              "      <td>6</td>\n",
              "      <td>Lunes</td>\n",
              "      <td>1</td>\n",
              "      <td>2.855356</td>\n",
              "      <td>4</td>\n",
              "      <td>2023-01-01 04:22:55.887943971</td>\n",
              "    </tr>\n",
              "    <tr>\n",
              "      <th>2</th>\n",
              "      <td>40</td>\n",
              "      <td>Miércoles</td>\n",
              "      <td>0</td>\n",
              "      <td>2.792230</td>\n",
              "      <td>4</td>\n",
              "      <td>2023-01-01 08:45:51.775887943</td>\n",
              "    </tr>\n",
              "    <tr>\n",
              "      <th>3</th>\n",
              "      <td>21</td>\n",
              "      <td>Lunes</td>\n",
              "      <td>0</td>\n",
              "      <td>23.646925</td>\n",
              "      <td>9</td>\n",
              "      <td>2023-01-01 13:08:47.663831915</td>\n",
              "    </tr>\n",
              "    <tr>\n",
              "      <th>4</th>\n",
              "      <td>33</td>\n",
              "      <td>Domingo</td>\n",
              "      <td>0</td>\n",
              "      <td>7.127791</td>\n",
              "      <td>8</td>\n",
              "      <td>2023-01-01 17:31:43.551775887</td>\n",
              "    </tr>\n",
              "  </tbody>\n",
              "</table>\n",
              "</div>\n",
              "    <div class=\"colab-df-buttons\">\n",
              "\n",
              "  <div class=\"colab-df-container\">\n",
              "    <button class=\"colab-df-convert\" onclick=\"convertToInteractive('df-5c643d91-6020-4d95-9c5e-d91b2c144629')\"\n",
              "            title=\"Convert this dataframe to an interactive table.\"\n",
              "            style=\"display:none;\">\n",
              "\n",
              "  <svg xmlns=\"http://www.w3.org/2000/svg\" height=\"24px\" viewBox=\"0 -960 960 960\">\n",
              "    <path d=\"M120-120v-720h720v720H120Zm60-500h600v-160H180v160Zm220 220h160v-160H400v160Zm0 220h160v-160H400v160ZM180-400h160v-160H180v160Zm440 0h160v-160H620v160ZM180-180h160v-160H180v160Zm440 0h160v-160H620v160Z\"/>\n",
              "  </svg>\n",
              "    </button>\n",
              "\n",
              "  <style>\n",
              "    .colab-df-container {\n",
              "      display:flex;\n",
              "      gap: 12px;\n",
              "    }\n",
              "\n",
              "    .colab-df-convert {\n",
              "      background-color: #E8F0FE;\n",
              "      border: none;\n",
              "      border-radius: 50%;\n",
              "      cursor: pointer;\n",
              "      display: none;\n",
              "      fill: #1967D2;\n",
              "      height: 32px;\n",
              "      padding: 0 0 0 0;\n",
              "      width: 32px;\n",
              "    }\n",
              "\n",
              "    .colab-df-convert:hover {\n",
              "      background-color: #E2EBFA;\n",
              "      box-shadow: 0px 1px 2px rgba(60, 64, 67, 0.3), 0px 1px 3px 1px rgba(60, 64, 67, 0.15);\n",
              "      fill: #174EA6;\n",
              "    }\n",
              "\n",
              "    .colab-df-buttons div {\n",
              "      margin-bottom: 4px;\n",
              "    }\n",
              "\n",
              "    [theme=dark] .colab-df-convert {\n",
              "      background-color: #3B4455;\n",
              "      fill: #D2E3FC;\n",
              "    }\n",
              "\n",
              "    [theme=dark] .colab-df-convert:hover {\n",
              "      background-color: #434B5C;\n",
              "      box-shadow: 0px 1px 3px 1px rgba(0, 0, 0, 0.15);\n",
              "      filter: drop-shadow(0px 1px 2px rgba(0, 0, 0, 0.3));\n",
              "      fill: #FFFFFF;\n",
              "    }\n",
              "  </style>\n",
              "\n",
              "    <script>\n",
              "      const buttonEl =\n",
              "        document.querySelector('#df-5c643d91-6020-4d95-9c5e-d91b2c144629 button.colab-df-convert');\n",
              "      buttonEl.style.display =\n",
              "        google.colab.kernel.accessAllowed ? 'block' : 'none';\n",
              "\n",
              "      async function convertToInteractive(key) {\n",
              "        const element = document.querySelector('#df-5c643d91-6020-4d95-9c5e-d91b2c144629');\n",
              "        const dataTable =\n",
              "          await google.colab.kernel.invokeFunction('convertToInteractive',\n",
              "                                                    [key], {});\n",
              "        if (!dataTable) return;\n",
              "\n",
              "        const docLinkHtml = 'Like what you see? Visit the ' +\n",
              "          '<a target=\"_blank\" href=https://colab.research.google.com/notebooks/data_table.ipynb>data table notebook</a>'\n",
              "          + ' to learn more about interactive tables.';\n",
              "        element.innerHTML = '';\n",
              "        dataTable['output_type'] = 'display_data';\n",
              "        await google.colab.output.renderOutput(dataTable, element);\n",
              "        const docLink = document.createElement('div');\n",
              "        docLink.innerHTML = docLinkHtml;\n",
              "        element.appendChild(docLink);\n",
              "      }\n",
              "    </script>\n",
              "  </div>\n",
              "\n",
              "\n",
              "<div id=\"df-e3487443-e425-49cd-abed-b85b2b28fa43\">\n",
              "  <button class=\"colab-df-quickchart\" onclick=\"quickchart('df-e3487443-e425-49cd-abed-b85b2b28fa43')\"\n",
              "            title=\"Suggest charts\"\n",
              "            style=\"display:none;\">\n",
              "\n",
              "<svg xmlns=\"http://www.w3.org/2000/svg\" height=\"24px\"viewBox=\"0 0 24 24\"\n",
              "     width=\"24px\">\n",
              "    <g>\n",
              "        <path d=\"M19 3H5c-1.1 0-2 .9-2 2v14c0 1.1.9 2 2 2h14c1.1 0 2-.9 2-2V5c0-1.1-.9-2-2-2zM9 17H7v-7h2v7zm4 0h-2V7h2v10zm4 0h-2v-4h2v4z\"/>\n",
              "    </g>\n",
              "</svg>\n",
              "  </button>\n",
              "\n",
              "<style>\n",
              "  .colab-df-quickchart {\n",
              "      --bg-color: #E8F0FE;\n",
              "      --fill-color: #1967D2;\n",
              "      --hover-bg-color: #E2EBFA;\n",
              "      --hover-fill-color: #174EA6;\n",
              "      --disabled-fill-color: #AAA;\n",
              "      --disabled-bg-color: #DDD;\n",
              "  }\n",
              "\n",
              "  [theme=dark] .colab-df-quickchart {\n",
              "      --bg-color: #3B4455;\n",
              "      --fill-color: #D2E3FC;\n",
              "      --hover-bg-color: #434B5C;\n",
              "      --hover-fill-color: #FFFFFF;\n",
              "      --disabled-bg-color: #3B4455;\n",
              "      --disabled-fill-color: #666;\n",
              "  }\n",
              "\n",
              "  .colab-df-quickchart {\n",
              "    background-color: var(--bg-color);\n",
              "    border: none;\n",
              "    border-radius: 50%;\n",
              "    cursor: pointer;\n",
              "    display: none;\n",
              "    fill: var(--fill-color);\n",
              "    height: 32px;\n",
              "    padding: 0;\n",
              "    width: 32px;\n",
              "  }\n",
              "\n",
              "  .colab-df-quickchart:hover {\n",
              "    background-color: var(--hover-bg-color);\n",
              "    box-shadow: 0 1px 2px rgba(60, 64, 67, 0.3), 0 1px 3px 1px rgba(60, 64, 67, 0.15);\n",
              "    fill: var(--button-hover-fill-color);\n",
              "  }\n",
              "\n",
              "  .colab-df-quickchart-complete:disabled,\n",
              "  .colab-df-quickchart-complete:disabled:hover {\n",
              "    background-color: var(--disabled-bg-color);\n",
              "    fill: var(--disabled-fill-color);\n",
              "    box-shadow: none;\n",
              "  }\n",
              "\n",
              "  .colab-df-spinner {\n",
              "    border: 2px solid var(--fill-color);\n",
              "    border-color: transparent;\n",
              "    border-bottom-color: var(--fill-color);\n",
              "    animation:\n",
              "      spin 1s steps(1) infinite;\n",
              "  }\n",
              "\n",
              "  @keyframes spin {\n",
              "    0% {\n",
              "      border-color: transparent;\n",
              "      border-bottom-color: var(--fill-color);\n",
              "      border-left-color: var(--fill-color);\n",
              "    }\n",
              "    20% {\n",
              "      border-color: transparent;\n",
              "      border-left-color: var(--fill-color);\n",
              "      border-top-color: var(--fill-color);\n",
              "    }\n",
              "    30% {\n",
              "      border-color: transparent;\n",
              "      border-left-color: var(--fill-color);\n",
              "      border-top-color: var(--fill-color);\n",
              "      border-right-color: var(--fill-color);\n",
              "    }\n",
              "    40% {\n",
              "      border-color: transparent;\n",
              "      border-right-color: var(--fill-color);\n",
              "      border-top-color: var(--fill-color);\n",
              "    }\n",
              "    60% {\n",
              "      border-color: transparent;\n",
              "      border-right-color: var(--fill-color);\n",
              "    }\n",
              "    80% {\n",
              "      border-color: transparent;\n",
              "      border-right-color: var(--fill-color);\n",
              "      border-bottom-color: var(--fill-color);\n",
              "    }\n",
              "    90% {\n",
              "      border-color: transparent;\n",
              "      border-bottom-color: var(--fill-color);\n",
              "    }\n",
              "  }\n",
              "</style>\n",
              "\n",
              "  <script>\n",
              "    async function quickchart(key) {\n",
              "      const quickchartButtonEl =\n",
              "        document.querySelector('#' + key + ' button');\n",
              "      quickchartButtonEl.disabled = true;  // To prevent multiple clicks.\n",
              "      quickchartButtonEl.classList.add('colab-df-spinner');\n",
              "      try {\n",
              "        const charts = await google.colab.kernel.invokeFunction(\n",
              "            'suggestCharts', [key], {});\n",
              "      } catch (error) {\n",
              "        console.error('Error during call to suggestCharts:', error);\n",
              "      }\n",
              "      quickchartButtonEl.classList.remove('colab-df-spinner');\n",
              "      quickchartButtonEl.classList.add('colab-df-quickchart-complete');\n",
              "    }\n",
              "    (() => {\n",
              "      let quickchartButtonEl =\n",
              "        document.querySelector('#df-e3487443-e425-49cd-abed-b85b2b28fa43 button');\n",
              "      quickchartButtonEl.style.display =\n",
              "        google.colab.kernel.accessAllowed ? 'block' : 'none';\n",
              "    })();\n",
              "  </script>\n",
              "</div>\n",
              "\n",
              "    </div>\n",
              "  </div>\n"
            ],
            "application/vnd.google.colaboratory.intrinsic+json": {
              "type": "dataframe",
              "variable_name": "df",
              "summary": "{\n  \"name\": \"df\",\n  \"rows\": 2000,\n  \"fields\": [\n    {\n      \"column\": \"Pedidos por hora\",\n      \"properties\": {\n        \"dtype\": \"number\",\n        \"std\": 14,\n        \"min\": 1,\n        \"max\": 49,\n        \"num_unique_values\": 49,\n        \"samples\": [\n          17,\n          34,\n          36\n        ],\n        \"semantic_type\": \"\",\n        \"description\": \"\"\n      }\n    },\n    {\n      \"column\": \"D\\u00eda de la semana\",\n      \"properties\": {\n        \"dtype\": \"category\",\n        \"num_unique_values\": 7,\n        \"samples\": [\n          \"Domingo\",\n          \"Lunes\",\n          \"Jueves\"\n        ],\n        \"semantic_type\": \"\",\n        \"description\": \"\"\n      }\n    },\n    {\n      \"column\": \"Hora pico\",\n      \"properties\": {\n        \"dtype\": \"number\",\n        \"std\": 0,\n        \"min\": 0,\n        \"max\": 1,\n        \"num_unique_values\": 2,\n        \"samples\": [\n          1,\n          0\n        ],\n        \"semantic_type\": \"\",\n        \"description\": \"\"\n      }\n    },\n    {\n      \"column\": \"Tiempo entre pedidos (min)\",\n      \"properties\": {\n        \"dtype\": \"number\",\n        \"std\": 4.884574701857867,\n        \"min\": 0.00011772170407250426,\n        \"max\": 34.69099499088391,\n        \"num_unique_values\": 2000,\n        \"samples\": [\n          18.388615510984604,\n          1.4230989906333775\n        ],\n        \"semantic_type\": \"\",\n        \"description\": \"\"\n      }\n    },\n    {\n      \"column\": \"Empleados presentes\",\n      \"properties\": {\n        \"dtype\": \"number\",\n        \"std\": 2,\n        \"min\": 2,\n        \"max\": 9,\n        \"num_unique_values\": 8,\n        \"samples\": [\n          4,\n          5\n        ],\n        \"semantic_type\": \"\",\n        \"description\": \"\"\n      }\n    },\n    {\n      \"column\": \"Fecha y hora\",\n      \"properties\": {\n        \"dtype\": \"date\",\n        \"min\": \"2023-01-01 00:00:00\",\n        \"max\": \"2024-01-01 00:00:00\",\n        \"num_unique_values\": 2000,\n        \"samples\": [\n          \"2023-12-06 14:52:31.575787896\",\n          \"2023-03-06 10:54:48.444222111\"\n        ],\n        \"semantic_type\": \"\",\n        \"description\": \"\"\n      }\n    }\n  ]\n}"
            }
          },
          "metadata": {},
          "execution_count": 1
        }
      ],
      "source": [
        "import pandas as pd\n",
        "import numpy as np\n",
        "import random\n",
        "from datetime import datetime, timedelta\n",
        "\n",
        "# Número de filas\n",
        "num_rows = 2000\n",
        "\n",
        "# Generar datos aleatorios para cada columna\n",
        "orders_per_hour = np.random.randint(1, 50, num_rows)\n",
        "days_of_week = np.random.choice(['Lunes', 'Martes', 'Miércoles', 'Jueves', 'Viernes', 'Sábado', 'Domingo'], num_rows)\n",
        "peak_hours = np.random.choice([0, 1], num_rows, p=[0.8, 0.2])\n",
        "time_between_orders = np.random.exponential(scale=5, size=num_rows)\n",
        "employees_present = np.random.randint(2, 10, num_rows)\n",
        "\n",
        "# Crear un DataFrame de pandas\n",
        "data = {\n",
        "    'Pedidos por hora': orders_per_hour,\n",
        "    'Día de la semana': days_of_week,\n",
        "    'Hora pico': peak_hours,\n",
        "    'Tiempo entre pedidos (min)': time_between_orders,\n",
        "    'Empleados presentes': employees_present\n",
        "}\n",
        "df = pd.DataFrame(data)\n",
        "\n",
        "# Crear una serie de fechas y horas aleatorias\n",
        "start_date = datetime(2023, 1, 1, 0, 0, 0)\n",
        "end_date = start_date + timedelta(days=365)\n",
        "date_times = pd.date_range(start=start_date, end=end_date, periods=num_rows)\n",
        "\n",
        "# Añadir la columna al DataFrame\n",
        "df['Fecha y hora'] = date_times\n",
        "\n",
        "# Mostrar las primeras 5 filas del DataFrame\n",
        "df.head()"
      ]
    },
    {
      "cell_type": "code",
      "source": [
        "dias_movidos = df.groupby('Día de la semana')['Pedidos por hora'].count()\n",
        "dias_movidos"
      ],
      "metadata": {
        "colab": {
          "base_uri": "https://localhost:8080/",
          "height": 335
        },
        "id": "NqMVe_kqmICb",
        "outputId": "41b2d552-cf45-4925-813a-e1e936e5464c"
      },
      "execution_count": 28,
      "outputs": [
        {
          "output_type": "execute_result",
          "data": {
            "text/plain": [
              "Día de la semana\n",
              "Domingo      237\n",
              "Jueves       305\n",
              "Lunes        300\n",
              "Martes       297\n",
              "Miércoles    289\n",
              "Sábado       293\n",
              "Viernes      279\n",
              "Name: Pedidos por hora, dtype: int64"
            ],
            "text/html": [
              "<div>\n",
              "<style scoped>\n",
              "    .dataframe tbody tr th:only-of-type {\n",
              "        vertical-align: middle;\n",
              "    }\n",
              "\n",
              "    .dataframe tbody tr th {\n",
              "        vertical-align: top;\n",
              "    }\n",
              "\n",
              "    .dataframe thead th {\n",
              "        text-align: right;\n",
              "    }\n",
              "</style>\n",
              "<table border=\"1\" class=\"dataframe\">\n",
              "  <thead>\n",
              "    <tr style=\"text-align: right;\">\n",
              "      <th></th>\n",
              "      <th>Pedidos por hora</th>\n",
              "    </tr>\n",
              "    <tr>\n",
              "      <th>Día de la semana</th>\n",
              "      <th></th>\n",
              "    </tr>\n",
              "  </thead>\n",
              "  <tbody>\n",
              "    <tr>\n",
              "      <th>Domingo</th>\n",
              "      <td>237</td>\n",
              "    </tr>\n",
              "    <tr>\n",
              "      <th>Jueves</th>\n",
              "      <td>305</td>\n",
              "    </tr>\n",
              "    <tr>\n",
              "      <th>Lunes</th>\n",
              "      <td>300</td>\n",
              "    </tr>\n",
              "    <tr>\n",
              "      <th>Martes</th>\n",
              "      <td>297</td>\n",
              "    </tr>\n",
              "    <tr>\n",
              "      <th>Miércoles</th>\n",
              "      <td>289</td>\n",
              "    </tr>\n",
              "    <tr>\n",
              "      <th>Sábado</th>\n",
              "      <td>293</td>\n",
              "    </tr>\n",
              "    <tr>\n",
              "      <th>Viernes</th>\n",
              "      <td>279</td>\n",
              "    </tr>\n",
              "  </tbody>\n",
              "</table>\n",
              "</div><br><label><b>dtype:</b> int64</label>"
            ]
          },
          "metadata": {},
          "execution_count": 28
        }
      ]
    },
    {
      "cell_type": "code",
      "source": [
        "dias_movidos = df.groupby('Día de la semana')['Pedidos por hora'].sum().sort_values(ascending=False)\n",
        "dias_movidos"
      ],
      "metadata": {
        "colab": {
          "base_uri": "https://localhost:8080/",
          "height": 335
        },
        "id": "4p6VRZibnBhX",
        "outputId": "efe3a43e-0b3e-4be8-d405-bc87e23dac36"
      },
      "execution_count": 30,
      "outputs": [
        {
          "output_type": "execute_result",
          "data": {
            "text/plain": [
              "Día de la semana\n",
              "Jueves       8022\n",
              "Martes       7899\n",
              "Lunes        7522\n",
              "Miércoles    7306\n",
              "Viernes      7006\n",
              "Sábado       6910\n",
              "Domingo      6387\n",
              "Name: Pedidos por hora, dtype: int64"
            ],
            "text/html": [
              "<div>\n",
              "<style scoped>\n",
              "    .dataframe tbody tr th:only-of-type {\n",
              "        vertical-align: middle;\n",
              "    }\n",
              "\n",
              "    .dataframe tbody tr th {\n",
              "        vertical-align: top;\n",
              "    }\n",
              "\n",
              "    .dataframe thead th {\n",
              "        text-align: right;\n",
              "    }\n",
              "</style>\n",
              "<table border=\"1\" class=\"dataframe\">\n",
              "  <thead>\n",
              "    <tr style=\"text-align: right;\">\n",
              "      <th></th>\n",
              "      <th>Pedidos por hora</th>\n",
              "    </tr>\n",
              "    <tr>\n",
              "      <th>Día de la semana</th>\n",
              "      <th></th>\n",
              "    </tr>\n",
              "  </thead>\n",
              "  <tbody>\n",
              "    <tr>\n",
              "      <th>Jueves</th>\n",
              "      <td>8022</td>\n",
              "    </tr>\n",
              "    <tr>\n",
              "      <th>Martes</th>\n",
              "      <td>7899</td>\n",
              "    </tr>\n",
              "    <tr>\n",
              "      <th>Lunes</th>\n",
              "      <td>7522</td>\n",
              "    </tr>\n",
              "    <tr>\n",
              "      <th>Miércoles</th>\n",
              "      <td>7306</td>\n",
              "    </tr>\n",
              "    <tr>\n",
              "      <th>Viernes</th>\n",
              "      <td>7006</td>\n",
              "    </tr>\n",
              "    <tr>\n",
              "      <th>Sábado</th>\n",
              "      <td>6910</td>\n",
              "    </tr>\n",
              "    <tr>\n",
              "      <th>Domingo</th>\n",
              "      <td>6387</td>\n",
              "    </tr>\n",
              "  </tbody>\n",
              "</table>\n",
              "</div><br><label><b>dtype:</b> int64</label>"
            ]
          },
          "metadata": {},
          "execution_count": 30
        }
      ]
    },
    {
      "cell_type": "code",
      "source": [
        "#Contar cuantos pedidos hay en horas picos\n",
        "pico = df.groupby('Hora pico')['Pedidos por hora'].sum().sort_values(ascending=False)\n",
        "pico"
      ],
      "metadata": {
        "colab": {
          "base_uri": "https://localhost:8080/",
          "height": 178
        },
        "id": "U49ZAFPGnPX1",
        "outputId": "5df4124f-0c17-41c6-a2fc-d0bd1db39dae"
      },
      "execution_count": 31,
      "outputs": [
        {
          "output_type": "execute_result",
          "data": {
            "text/plain": [
              "Hora pico\n",
              "0    40310\n",
              "1    10742\n",
              "Name: Pedidos por hora, dtype: int64"
            ],
            "text/html": [
              "<div>\n",
              "<style scoped>\n",
              "    .dataframe tbody tr th:only-of-type {\n",
              "        vertical-align: middle;\n",
              "    }\n",
              "\n",
              "    .dataframe tbody tr th {\n",
              "        vertical-align: top;\n",
              "    }\n",
              "\n",
              "    .dataframe thead th {\n",
              "        text-align: right;\n",
              "    }\n",
              "</style>\n",
              "<table border=\"1\" class=\"dataframe\">\n",
              "  <thead>\n",
              "    <tr style=\"text-align: right;\">\n",
              "      <th></th>\n",
              "      <th>Pedidos por hora</th>\n",
              "    </tr>\n",
              "    <tr>\n",
              "      <th>Hora pico</th>\n",
              "      <th></th>\n",
              "    </tr>\n",
              "  </thead>\n",
              "  <tbody>\n",
              "    <tr>\n",
              "      <th>0</th>\n",
              "      <td>40310</td>\n",
              "    </tr>\n",
              "    <tr>\n",
              "      <th>1</th>\n",
              "      <td>10742</td>\n",
              "    </tr>\n",
              "  </tbody>\n",
              "</table>\n",
              "</div><br><label><b>dtype:</b> int64</label>"
            ]
          },
          "metadata": {},
          "execution_count": 31
        }
      ]
    },
    {
      "cell_type": "code",
      "source": [
        "df['Hora'] = df['Fecha y hora'].dt.hour\n",
        "hori = df.groupby('Hora')['Pedidos por hora'].sum().sort_values(ascending=False)\n",
        "print(len(hori))"
      ],
      "metadata": {
        "colab": {
          "base_uri": "https://localhost:8080/"
        },
        "id": "EvV2aUeUnwX8",
        "outputId": "1529e8a5-94f3-4a19-a4ac-fd2fe14a0fbe"
      },
      "execution_count": 35,
      "outputs": [
        {
          "output_type": "stream",
          "name": "stdout",
          "text": [
            "24\n"
          ]
        }
      ]
    },
    {
      "cell_type": "markdown",
      "source": [
        "# Analisis de la llegada de pedidos"
      ],
      "metadata": {
        "id": "e5aaBVxzgpfx"
      }
    },
    {
      "cell_type": "code",
      "source": [
        "# Analisis Exploratorio:\n",
        "\n",
        "## 1. Histograma tiempo entre clientes\n",
        "\n",
        "import seaborn as sns\n",
        "import matplotlib.pyplot as plt\n",
        "\n",
        "sns.histplot(data =df, x = 'Tiempo entre pedidos (min)', bins =30, kde = True, color = '#bd0017')\n",
        "plt.title(\"Tiempo entre pedidos\")\n",
        "plt.xlabel(\"Tiempo entre Pedidos (min)\", fontsize=12)\n",
        "plt.ylabel(\"Frecuencia\", fontsize=12)\n",
        "#plt.grid(True, linestyle='--', alpha=0.5)\n",
        "\n",
        "# Mostrar el histograma\n",
        "plt.show()"
      ],
      "metadata": {
        "colab": {
          "base_uri": "https://localhost:8080/",
          "height": 476
        },
        "id": "yvEBvsNiROPH",
        "outputId": "e876e88e-9de1-4105-f882-e40e2c6d32a3"
      },
      "execution_count": 3,
      "outputs": [
        {
          "output_type": "display_data",
          "data": {
            "text/plain": [
              "<Figure size 640x480 with 1 Axes>"
            ],
            "image/png": "[encoded data removed]"
          },
          "metadata": {}
        }
      ]
    },
    {
      "cell_type": "markdown",
      "source": [
        "Distribuciones n\n"
      ],
      "metadata": {
        "id": "ve9aNJ3-SCEP"
      }
    },
    {
      "cell_type": "code",
      "source": [
        "# Distribución exponencial:\n",
        "# Cantidad que transcurre hasta que sueda el evento\n",
        "\n",
        "import numpy as np\n",
        "\n",
        "prom_espera_hist = df['Tiempo entre pedidos (min)'].mean() #Media\n",
        "lambde = 1/prom_espera_hist # Tasa de ocurrencia\n",
        "\n",
        "\n",
        "valores_hist = np.random.exponential(scale = 1/lambde, size = len(df))\n",
        "# Se genera numeros random del tamaño del DataFrame con distribución normal, size es la esperanza, con el promedio\n",
        "\n",
        "\n",
        "# Distribucion geometrica: Numero de ensayos hasta que llegue el primer cliente\n",
        "\n",
        "k = 1\n",
        "p_geo = lambde / k\n",
        "val_geo = np.random.geometric(p=p_geo, size=len(df))\n",
        "\n",
        "#\n",
        "#sns.histplot(data=df, x='Tiempo entre pedidos (min)', bins=30, kde=True, color='#bd0017', label='Datos originales')\n",
        "\n",
        "# Distribución exponencial\n",
        "sns.histplot(valores_hist, bins=30, kde=True, color='blue', label='Exponencial', alpha=0.5)\n",
        "\n",
        "# Distribución geométrica\n",
        "sns.histplot(val_geo, bins=30, kde=False, color='green', label='Geométrica', alpha=0.5) # kde=False para geométrica (discreta)\n",
        "\n",
        "plt.title(\"Comparación de distribuciones\")\n",
        "plt.xlabel(\"Tiempo (minutos)\")\n",
        "plt.ylabel(\"Frecuencia\")\n",
        "plt.legend()\n",
        "plt.show()"
      ],
      "metadata": {
        "colab": {
          "base_uri": "https://localhost:8080/",
          "height": 472
        },
        "id": "HmnBkIdfXSuG",
        "outputId": "7b24e174-f77c-4a24-bf87-d8c89f4426b6"
      },
      "execution_count": 8,
      "outputs": [
        {
          "output_type": "display_data",
          "data": {
            "text/plain": [
              "<Figure size 640x480 with 1 Axes>"
            ],
            "image/png": "[encoded data removed]"
          },
          "metadata": {}
        }
      ]
    },
    {
      "cell_type": "markdown",
      "source": [
        "En esto, podemos analizar con los datos reales como se está comportando mediante el histograma, y en cuales intervalos hay más llegadas. Con la función exponencial evaluamos variables **continuas**, y nos permite hacer un proceso de machine learning de la probabilidad que los pedidos a futuro sean así\n"
      ],
      "metadata": {
        "id": "O3C60_3scCQK"
      }
    },
    {
      "cell_type": "code",
      "source": [
        "# Hallar la media de los tiempos\n",
        "print(f\"Se espera que el tiempo entre pedidos {prom_espera_hist:.2f} minutos\")"
      ],
      "metadata": {
        "colab": {
          "base_uri": "https://localhost:8080/"
        },
        "id": "uSvhdTMics65",
        "outputId": "c0171f21-67d1-4e65-b8f9-843368475baa"
      },
      "execution_count": 10,
      "outputs": [
        {
          "output_type": "stream",
          "name": "stdout",
          "text": [
            "Se espera que el tiempo entre pedidos 5.02 minutos\n"
          ]
        }
      ]
    },
    {
      "cell_type": "code",
      "source": [
        "# Variabilidad entre el tiempo de los cleintes\n",
        "varianza = prom_espera_hist**2\n",
        "print(f\"La variabilidad que pueden tener los pedidos es de {varianza:.2f} minutos, de acuerdo a una distribución exponencial.\\nEs decir que algunos clientes llegan de forma diferente, algunos más rápido y otros más lento\")\n",
        "\n",
        "varianz1a = np.var(df['Tiempo entre pedidos (min)'])\n",
        "print(f\"La varianza de los datos recolectados es de {varianz1a:.2f}\")\n",
        "\n"
      ],
      "metadata": {
        "colab": {
          "base_uri": "https://localhost:8080/"
        },
        "id": "Y54fY3G2dNE_",
        "outputId": "8c880bdf-ac97-4eb8-a22b-cbd007f9a122"
      },
      "execution_count": 15,
      "outputs": [
        {
          "output_type": "stream",
          "name": "stdout",
          "text": [
            "La variabilidad que pueden tener los pedidos es de 25.25 minutos, de acuerdo a una distribución exponencial.\n",
            "Es decir que algunos clientes llegan de forma diferente, algunos más rápido y otros más lento\n",
            "La varianza de los datos recolectados es de 23.85\n"
          ]
        }
      ]
    },
    {
      "cell_type": "code",
      "source": [
        "# Probabilidad de que el 90% de los pedidos lleguen en cierto momento\n",
        "\n",
        "from scipy.stats import expon\n",
        "percentil = 0.9\n",
        "media = 1/lambde\n",
        "x_90 = expon.ppf(percentil, scale=media)\n",
        "\n",
        "\n",
        "print(f\"El 90% de pedidos llegan entre menos de {x_90:.2f} minutos\")"
      ],
      "metadata": {
        "colab": {
          "base_uri": "https://localhost:8080/"
        },
        "id": "XRj035Kee679",
        "outputId": "8117fb98-b3a7-477f-bc18-ebce06eb8509"
      },
      "execution_count": 18,
      "outputs": [
        {
          "output_type": "stream",
          "name": "stdout",
          "text": [
            "El 90% de pedidos llegan entre menos de 11.57 minutos\n"
          ]
        }
      ]
    },
    {
      "cell_type": "markdown",
      "source": [
        "# Analisis de optimización del restaurante"
      ],
      "metadata": {
        "id": "uRRKWq0sg6Kv"
      }
    },
    {
      "cell_type": "code",
      "source": [
        "# Numero de empleados que se requieren\n",
        "'''TODO: Suponiendo que los empleados son en un promedio, NO SE AJUSTA A LA DEMANDA REAL ok '''\n",
        "\n",
        "# Vamos a suponer que la capacidad de atención de los empleados es n= 15, o sea puede atender 15 clientes por hora\n",
        "'''TODO: Como la tasa de llegada es exponencial y seguramente la de atención tambien\n",
        "se deebe realizar la teoría de colas'''\n",
        "n= 15\n",
        "empleados_necesitados = lambde / 4\n",
        "print(f\"Se requieren {empleados_necesitados:.2f} empleados\")\n",
        "\n"
      ],
      "metadata": {
        "colab": {
          "base_uri": "https://localhost:8080/"
        },
        "id": "zyoa-Ug8g_Iv",
        "outputId": "aa83ecbb-064e-400f-b7c2-04474693098e"
      },
      "execution_count": 22,
      "outputs": [
        {
          "output_type": "stream",
          "name": "stdout",
          "text": [
            "Se requieren 0.05 empleados\n"
          ]
        }
      ]
    },
    {
      "cell_type": "code",
      "source": [
        "print(lambde)"
      ],
      "metadata": {
        "colab": {
          "base_uri": "https://localhost:8080/"
        },
        "id": "RVzNRRVGkZ42",
        "outputId": "b1ae59cd-b881-46cb-8b21-1ec733d2982d"
      },
      "execution_count": 23,
      "outputs": [
        {
          "output_type": "stream",
          "name": "stdout",
          "text": [
            "0.19901064550028802\n"
          ]
        }
      ]
    },
    {
      "cell_type": "code",
      "source": [
        "lambdi = 1 / (5/60) = 12 clientes por h"
      ],
      "metadata": {
        "id": "trPeN1E-kn70"
      },
      "execution_count": null,
      "outputs": []
    }
  ]
}