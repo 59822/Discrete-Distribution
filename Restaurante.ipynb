{
  "nbformat": 4,
  "nbformat_minor": 0,
  "metadata": {
    "colab": {
      "provenance": [],
      "authorship_tag": "ABX9TyONJvRWvfiTue06KZHsIgKd",
      "include_colab_link": true
    },
    "kernelspec": {
      "name": "python3",
      "display_name": "Python 3"
    },
    "language_info": {
      "name": "python"
    }
  },
  "cells": [
    {
      "cell_type": "markdown",
      "metadata": {
        "id": "view-in-github",
        "colab_type": "text"
      },
      "source": [
        "<a href=\"https://colab.research.google.com/github/59822/Discrete-Distribution/blob/main/Restaurante.ipynb\" target=\"_parent\"><img src=\"https://colab.research.google.com/assets/colab-badge.svg\" alt=\"Open In Colab\"/></a>"
      ]
    },
    {
      "cell_type": "code",
      "execution_count": 16,
      "metadata": {
        "colab": {
          "base_uri": "https://localhost:8080/"
        },
        "id": "QWafpBESpuRb",
        "outputId": "720cf382-0208-4106-f516-db9747c55b67"
      },
      "outputs": [
        {
          "output_type": "stream",
          "name": "stdout",
          "text": [
            "   Dia  Hora Cliente_ID  Tiempo_Entre_Pedidos (min)  Pedidos\n",
            "0    1    12     1-12-1                           1        1\n",
            "1    1    12     1-12-2                           5        3\n",
            "2    1    12     1-12-3                           1        2\n",
            "3    1    12     1-12-4                           6        2\n",
            "4    1    12     1-12-5                           2        1\n",
            "5    1    13     1-13-1                           4        3\n",
            "6    1    13     1-13-2                           1        3\n",
            "7    1    13     1-13-3                           3        3\n",
            "8    1    14     1-14-1                          13        2\n",
            "9    1    14     1-14-2                           8        1\n",
            "Total de filas: 2209\n"
          ]
        }
      ],
      "source": [
        "import numpy as np\n",
        "import pandas as pd\n",
        "\n",
        "# Configuración inicial\n",
        "np.random.seed(42)  # Fijar semilla para reproducibilidad\n",
        "\n",
        "# Parámetros de simulación\n",
        "dias = 30  # Días de datos\n",
        "horas_por_dia = 12  # Horas de operación (por ejemplo, de 12:00 a 23:00)\n",
        "lambda_por_hora = {\n",
        "    12: 5,  # Hora del almuerzo\n",
        "    13: 8,\n",
        "    14: 6,\n",
        "    15: 4,\n",
        "    16: 3,\n",
        "    17: 4,\n",
        "    18: 8,  # Hora de la cena\n",
        "    19: 10,\n",
        "    20: 9,\n",
        "    21: 7,\n",
        "    22: 5,\n",
        "    23: 3\n",
        "}\n",
        "\n",
        "# Simular datos\n",
        "data = []\n",
        "for dia in range(1, dias + 1):\n",
        "    for hora, lam in lambda_por_hora.items():\n",
        "        # Simular número de clientes en esa hora (Poisson)\n",
        "        clientes = np.random.poisson(lam=lam)\n",
        "        for cliente in range(clientes):\n",
        "            # Tiempo entre pedidos (Geométrica → minutos)\n",
        "            tiempo_entre = np.random.geometric(p=0.2)  # Esperanza 5 minutos\n",
        "            # Cantidad de pedidos por cliente\n",
        "            pedidos = np.random.randint(1, 4)  # 1 a 3 pedidos\n",
        "            # Agregar datos\n",
        "            data.append({\n",
        "                \"Dia\": dia,\n",
        "                \"Hora\": hora,\n",
        "                \"Cliente_ID\": f\"{dia}-{hora}-{cliente + 1}\",  # Identificador único\n",
        "                \"Tiempo_Entre_Pedidos (min)\": tiempo_entre,\n",
        "                \"Pedidos\": pedidos\n",
        "            })\n",
        "\n",
        "# Convertir a DataFrame\n",
        "df = pd.DataFrame(data)\n",
        "\n",
        "# Guardar como CSV\n",
        "df.to_csv(\"simulacion_restaurante.csv\", index=False)\n",
        "\n",
        "# Inspección rápida\n",
        "print(df.head(10))\n",
        "print(f\"Total de filas: {len(df)}\")\n"
      ]
    },
    {
      "cell_type": "code",
      "source": [],
      "metadata": {
        "id": "CHGoDb066Ylo"
      },
      "execution_count": null,
      "outputs": []
    },
    {
      "cell_type": "markdown",
      "source": [
        "# Predecir la cantidad que se van a recibir por hora\n",
        "$$\n",
        "P(x=k) = \\lambda\\ e^-\\lambda\\ /k!\n",
        "$$"
      ],
      "metadata": {
        "id": "cNf8J_d5qAAw"
      }
    },
    {
      "cell_type": "code",
      "source": [
        "df = pd.read_csv('simulacion_restaurante.csv')\n",
        "df.info"
      ],
      "metadata": {
        "colab": {
          "base_uri": "https://localhost:8080/",
          "height": 204
        },
        "id": "FwI2Pcf3run2",
        "outputId": "83d6d0db-53a5-425e-f604-6702a591a22e"
      },
      "execution_count": 9,
      "outputs": [
        {
          "output_type": "execute_result",
          "data": {
            "text/plain": [
              "<bound method DataFrame.info of       Dia  Hora Cliente_ID  Tiempo_Entre_Pedidos (min)  Pedidos\n",
              "0       1    12     1-12-1                           1        1\n",
              "1       1    12     1-12-2                           5        3\n",
              "2       1    12     1-12-3                           1        2\n",
              "3       1    12     1-12-4                           6        2\n",
              "4       1    12     1-12-5                           2        1\n",
              "...   ...   ...        ...                         ...      ...\n",
              "2204   30    22    30-22-2                           8        2\n",
              "2205   30    22    30-22-3                           1        1\n",
              "2206   30    23    30-23-1                           1        1\n",
              "2207   30    23    30-23-2                           2        1\n",
              "2208   30    23    30-23-3                           1        3\n",
              "\n",
              "[2209 rows x 5 columns]>"
            ],
            "text/html": [
              "<div style=\"max-width:800px; border: 1px solid var(--colab-border-color);\"><style>\n",
              "      pre.function-repr-contents {\n",
              "        overflow-x: auto;\n",
              "        padding: 8px 12px;\n",
              "        max-height: 500px;\n",
              "      }\n",
              "\n",
              "      pre.function-repr-contents.function-repr-contents-collapsed {\n",
              "        cursor: pointer;\n",
              "        max-height: 100px;\n",
              "      }\n",
              "    </style>\n",
              "    <pre style=\"white-space: initial; background:\n",
              "         var(--colab-secondary-surface-color); padding: 8px 12px;\n",
              "         border-bottom: 1px solid var(--colab-border-color);\"><b>pandas.core.frame.DataFrame.info</b><br/>def info(verbose: bool | None=None, buf: WriteBuffer[str] | None=None, max_cols: int | None=None, memory_usage: bool | str | None=None, show_counts: bool | None=None) -&gt; None</pre><pre class=\"function-repr-contents function-repr-contents-collapsed\" style=\"\"><a class=\"filepath\" style=\"display:none\" href=\"#\">/usr/local/lib/python3.11/dist-packages/pandas/core/frame.py</a>Print a concise summary of a DataFrame.\n",
              "\n",
              "This method prints information about a DataFrame including\n",
              "the index dtype and columns, non-null values and memory usage.\n",
              "\n",
              "Parameters\n",
              "----------\n",
              "verbose : bool, optional\n",
              "    Whether to print the full summary. By default, the setting in\n",
              "    ``pandas.options.display.max_info_columns`` is followed.\n",
              "buf : writable buffer, defaults to sys.stdout\n",
              "    Where to send the output. By default, the output is printed to\n",
              "    sys.stdout. Pass a writable buffer if you need to further process\n",
              "    the output.\n",
              "max_cols : int, optional\n",
              "    When to switch from the verbose to the truncated output. If the\n",
              "    DataFrame has more than `max_cols` columns, the truncated output\n",
              "    is used. By default, the setting in\n",
              "    ``pandas.options.display.max_info_columns`` is used.\n",
              "memory_usage : bool, str, optional\n",
              "    Specifies whether total memory usage of the DataFrame\n",
              "    elements (including the index) should be displayed. By default,\n",
              "    this follows the ``pandas.options.display.memory_usage`` setting.\n",
              "\n",
              "    True always show memory usage. False never shows memory usage.\n",
              "    A value of &#x27;deep&#x27; is equivalent to &quot;True with deep introspection&quot;.\n",
              "    Memory usage is shown in human-readable units (base-2\n",
              "    representation). Without deep introspection a memory estimation is\n",
              "    made based in column dtype and number of rows assuming values\n",
              "    consume the same memory amount for corresponding dtypes. With deep\n",
              "    memory introspection, a real memory usage calculation is performed\n",
              "    at the cost of computational resources. See the\n",
              "    :ref:`Frequently Asked Questions &lt;df-memory-usage&gt;` for more\n",
              "    details.\n",
              "show_counts : bool, optional\n",
              "    Whether to show the non-null counts. By default, this is shown\n",
              "    only if the DataFrame is smaller than\n",
              "    ``pandas.options.display.max_info_rows`` and\n",
              "    ``pandas.options.display.max_info_columns``. A value of True always\n",
              "    shows the counts, and False never shows the counts.\n",
              "\n",
              "Returns\n",
              "-------\n",
              "None\n",
              "    This method prints a summary of a DataFrame and returns None.\n",
              "\n",
              "See Also\n",
              "--------\n",
              "DataFrame.describe: Generate descriptive statistics of DataFrame\n",
              "    columns.\n",
              "DataFrame.memory_usage: Memory usage of DataFrame columns.\n",
              "\n",
              "Examples\n",
              "--------\n",
              "&gt;&gt;&gt; int_values = [1, 2, 3, 4, 5]\n",
              "&gt;&gt;&gt; text_values = [&#x27;alpha&#x27;, &#x27;beta&#x27;, &#x27;gamma&#x27;, &#x27;delta&#x27;, &#x27;epsilon&#x27;]\n",
              "&gt;&gt;&gt; float_values = [0.0, 0.25, 0.5, 0.75, 1.0]\n",
              "&gt;&gt;&gt; df = pd.DataFrame({&quot;int_col&quot;: int_values, &quot;text_col&quot;: text_values,\n",
              "...                   &quot;float_col&quot;: float_values})\n",
              "&gt;&gt;&gt; df\n",
              "    int_col text_col  float_col\n",
              "0        1    alpha       0.00\n",
              "1        2     beta       0.25\n",
              "2        3    gamma       0.50\n",
              "3        4    delta       0.75\n",
              "4        5  epsilon       1.00\n",
              "\n",
              "Prints information of all columns:\n",
              "\n",
              "&gt;&gt;&gt; df.info(verbose=True)\n",
              "&lt;class &#x27;pandas.core.frame.DataFrame&#x27;&gt;\n",
              "RangeIndex: 5 entries, 0 to 4\n",
              "Data columns (total 3 columns):\n",
              " #   Column     Non-Null Count  Dtype\n",
              "---  ------     --------------  -----\n",
              " 0   int_col    5 non-null      int64\n",
              " 1   text_col   5 non-null      object\n",
              " 2   float_col  5 non-null      float64\n",
              "dtypes: float64(1), int64(1), object(1)\n",
              "memory usage: 248.0+ bytes\n",
              "\n",
              "Prints a summary of columns count and its dtypes but not per column\n",
              "information:\n",
              "\n",
              "&gt;&gt;&gt; df.info(verbose=False)\n",
              "&lt;class &#x27;pandas.core.frame.DataFrame&#x27;&gt;\n",
              "RangeIndex: 5 entries, 0 to 4\n",
              "Columns: 3 entries, int_col to float_col\n",
              "dtypes: float64(1), int64(1), object(1)\n",
              "memory usage: 248.0+ bytes\n",
              "\n",
              "Pipe output of DataFrame.info to buffer instead of sys.stdout, get\n",
              "buffer content and writes to a text file:\n",
              "\n",
              "&gt;&gt;&gt; import io\n",
              "&gt;&gt;&gt; buffer = io.StringIO()\n",
              "&gt;&gt;&gt; df.info(buf=buffer)\n",
              "&gt;&gt;&gt; s = buffer.getvalue()\n",
              "&gt;&gt;&gt; with open(&quot;df_info.txt&quot;, &quot;w&quot;,\n",
              "...           encoding=&quot;utf-8&quot;) as f:  # doctest: +SKIP\n",
              "...     f.write(s)\n",
              "260\n",
              "\n",
              "The `memory_usage` parameter allows deep introspection mode, specially\n",
              "useful for big DataFrames and fine-tune memory optimization:\n",
              "\n",
              "&gt;&gt;&gt; random_strings_array = np.random.choice([&#x27;a&#x27;, &#x27;b&#x27;, &#x27;c&#x27;], 10 ** 6)\n",
              "&gt;&gt;&gt; df = pd.DataFrame({\n",
              "...     &#x27;column_1&#x27;: np.random.choice([&#x27;a&#x27;, &#x27;b&#x27;, &#x27;c&#x27;], 10 ** 6),\n",
              "...     &#x27;column_2&#x27;: np.random.choice([&#x27;a&#x27;, &#x27;b&#x27;, &#x27;c&#x27;], 10 ** 6),\n",
              "...     &#x27;column_3&#x27;: np.random.choice([&#x27;a&#x27;, &#x27;b&#x27;, &#x27;c&#x27;], 10 ** 6)\n",
              "... })\n",
              "&gt;&gt;&gt; df.info()\n",
              "&lt;class &#x27;pandas.core.frame.DataFrame&#x27;&gt;\n",
              "RangeIndex: 1000000 entries, 0 to 999999\n",
              "Data columns (total 3 columns):\n",
              " #   Column    Non-Null Count    Dtype\n",
              "---  ------    --------------    -----\n",
              " 0   column_1  1000000 non-null  object\n",
              " 1   column_2  1000000 non-null  object\n",
              " 2   column_3  1000000 non-null  object\n",
              "dtypes: object(3)\n",
              "memory usage: 22.9+ MB\n",
              "\n",
              "&gt;&gt;&gt; df.info(memory_usage=&#x27;deep&#x27;)\n",
              "&lt;class &#x27;pandas.core.frame.DataFrame&#x27;&gt;\n",
              "RangeIndex: 1000000 entries, 0 to 999999\n",
              "Data columns (total 3 columns):\n",
              " #   Column    Non-Null Count    Dtype\n",
              "---  ------    --------------    -----\n",
              " 0   column_1  1000000 non-null  object\n",
              " 1   column_2  1000000 non-null  object\n",
              " 2   column_3  1000000 non-null  object\n",
              "dtypes: object(3)\n",
              "memory usage: 165.9 MB</pre>\n",
              "      <script>\n",
              "      if (google.colab.kernel.accessAllowed && google.colab.files && google.colab.files.view) {\n",
              "        for (const element of document.querySelectorAll('.filepath')) {\n",
              "          element.style.display = 'block'\n",
              "          element.onclick = (event) => {\n",
              "            event.preventDefault();\n",
              "            event.stopPropagation();\n",
              "            google.colab.files.view(element.textContent, 3646);\n",
              "          };\n",
              "        }\n",
              "      }\n",
              "      for (const element of document.querySelectorAll('.function-repr-contents')) {\n",
              "        element.onclick = (event) => {\n",
              "          event.preventDefault();\n",
              "          event.stopPropagation();\n",
              "          element.classList.toggle('function-repr-contents-collapsed');\n",
              "        };\n",
              "      }\n",
              "      </script>\n",
              "      </div>"
            ]
          },
          "metadata": {},
          "execution_count": 9
        }
      ]
    },
    {
      "cell_type": "code",
      "source": [
        "df.tail(5)"
      ],
      "metadata": {
        "colab": {
          "base_uri": "https://localhost:8080/",
          "height": 206
        },
        "id": "ADNo-coNr9W3",
        "outputId": "cb44665f-7f49-402f-e1a3-1adda4f7d048"
      },
      "execution_count": 12,
      "outputs": [
        {
          "output_type": "execute_result",
          "data": {
            "text/plain": [
              "      Dia  Hora Cliente_ID  Tiempo_Entre_Pedidos (min)  Pedidos\n",
              "2204   30    22    30-22-2                           8        2\n",
              "2205   30    22    30-22-3                           1        1\n",
              "2206   30    23    30-23-1                           1        1\n",
              "2207   30    23    30-23-2                           2        1\n",
              "2208   30    23    30-23-3                           1        3"
            ],
            "text/html": [
              "\n",
              "  <div id=\"df-004546ef-2abe-4be2-891c-4d38b1bc6c83\" class=\"colab-df-container\">\n",
              "    <div>\n",
              "<style scoped>\n",
              "    .dataframe tbody tr th:only-of-type {\n",
              "        vertical-align: middle;\n",
              "    }\n",
              "\n",
              "    .dataframe tbody tr th {\n",
              "        vertical-align: top;\n",
              "    }\n",
              "\n",
              "    .dataframe thead th {\n",
              "        text-align: right;\n",
              "    }\n",
              "</style>\n",
              "<table border=\"1\" class=\"dataframe\">\n",
              "  <thead>\n",
              "    <tr style=\"text-align: right;\">\n",
              "      <th></th>\n",
              "      <th>Dia</th>\n",
              "      <th>Hora</th>\n",
              "      <th>Cliente_ID</th>\n",
              "      <th>Tiempo_Entre_Pedidos (min)</th>\n",
              "      <th>Pedidos</th>\n",
              "    </tr>\n",
              "  </thead>\n",
              "  <tbody>\n",
              "    <tr>\n",
              "      <th>2204</th>\n",
              "      <td>30</td>\n",
              "      <td>22</td>\n",
              "      <td>30-22-2</td>\n",
              "      <td>8</td>\n",
              "      <td>2</td>\n",
              "    </tr>\n",
              "    <tr>\n",
              "      <th>2205</th>\n",
              "      <td>30</td>\n",
              "      <td>22</td>\n",
              "      <td>30-22-3</td>\n",
              "      <td>1</td>\n",
              "      <td>1</td>\n",
              "    </tr>\n",
              "    <tr>\n",
              "      <th>2206</th>\n",
              "      <td>30</td>\n",
              "      <td>23</td>\n",
              "      <td>30-23-1</td>\n",
              "      <td>1</td>\n",
              "      <td>1</td>\n",
              "    </tr>\n",
              "    <tr>\n",
              "      <th>2207</th>\n",
              "      <td>30</td>\n",
              "      <td>23</td>\n",
              "      <td>30-23-2</td>\n",
              "      <td>2</td>\n",
              "      <td>1</td>\n",
              "    </tr>\n",
              "    <tr>\n",
              "      <th>2208</th>\n",
              "      <td>30</td>\n",
              "      <td>23</td>\n",
              "      <td>30-23-3</td>\n",
              "      <td>1</td>\n",
              "      <td>3</td>\n",
              "    </tr>\n",
              "  </tbody>\n",
              "</table>\n",
              "</div>\n",
              "    <div class=\"colab-df-buttons\">\n",
              "\n",
              "  <div class=\"colab-df-container\">\n",
              "    <button class=\"colab-df-convert\" onclick=\"convertToInteractive('df-004546ef-2abe-4be2-891c-4d38b1bc6c83')\"\n",
              "            title=\"Convert this dataframe to an interactive table.\"\n",
              "            style=\"display:none;\">\n",
              "\n",
              "  <svg xmlns=\"http://www.w3.org/2000/svg\" height=\"24px\" viewBox=\"0 -960 960 960\">\n",
              "    <path d=\"M120-120v-720h720v720H120Zm60-500h600v-160H180v160Zm220 220h160v-160H400v160Zm0 220h160v-160H400v160ZM180-400h160v-160H180v160Zm440 0h160v-160H620v160ZM180-180h160v-160H180v160Zm440 0h160v-160H620v160Z\"/>\n",
              "  </svg>\n",
              "    </button>\n",
              "\n",
              "  <style>\n",
              "    .colab-df-container {\n",
              "      display:flex;\n",
              "      gap: 12px;\n",
              "    }\n",
              "\n",
              "    .colab-df-convert {\n",
              "      background-color: #E8F0FE;\n",
              "      border: none;\n",
              "      border-radius: 50%;\n",
              "      cursor: pointer;\n",
              "      display: none;\n",
              "      fill: #1967D2;\n",
              "      height: 32px;\n",
              "      padding: 0 0 0 0;\n",
              "      width: 32px;\n",
              "    }\n",
              "\n",
              "    .colab-df-convert:hover {\n",
              "      background-color: #E2EBFA;\n",
              "      box-shadow: 0px 1px 2px rgba(60, 64, 67, 0.3), 0px 1px 3px 1px rgba(60, 64, 67, 0.15);\n",
              "      fill: #174EA6;\n",
              "    }\n",
              "\n",
              "    .colab-df-buttons div {\n",
              "      margin-bottom: 4px;\n",
              "    }\n",
              "\n",
              "    [theme=dark] .colab-df-convert {\n",
              "      background-color: #3B4455;\n",
              "      fill: #D2E3FC;\n",
              "    }\n",
              "\n",
              "    [theme=dark] .colab-df-convert:hover {\n",
              "      background-color: #434B5C;\n",
              "      box-shadow: 0px 1px 3px 1px rgba(0, 0, 0, 0.15);\n",
              "      filter: drop-shadow(0px 1px 2px rgba(0, 0, 0, 0.3));\n",
              "      fill: #FFFFFF;\n",
              "    }\n",
              "  </style>\n",
              "\n",
              "    <script>\n",
              "      const buttonEl =\n",
              "        document.querySelector('#df-004546ef-2abe-4be2-891c-4d38b1bc6c83 button.colab-df-convert');\n",
              "      buttonEl.style.display =\n",
              "        google.colab.kernel.accessAllowed ? 'block' : 'none';\n",
              "\n",
              "      async function convertToInteractive(key) {\n",
              "        const element = document.querySelector('#df-004546ef-2abe-4be2-891c-4d38b1bc6c83');\n",
              "        const dataTable =\n",
              "          await google.colab.kernel.invokeFunction('convertToInteractive',\n",
              "                                                    [key], {});\n",
              "        if (!dataTable) return;\n",
              "\n",
              "        const docLinkHtml = 'Like what you see? Visit the ' +\n",
              "          '<a target=\"_blank\" href=https://colab.research.google.com/notebooks/data_table.ipynb>data table notebook</a>'\n",
              "          + ' to learn more about interactive tables.';\n",
              "        element.innerHTML = '';\n",
              "        dataTable['output_type'] = 'display_data';\n",
              "        await google.colab.output.renderOutput(dataTable, element);\n",
              "        const docLink = document.createElement('div');\n",
              "        docLink.innerHTML = docLinkHtml;\n",
              "        element.appendChild(docLink);\n",
              "      }\n",
              "    </script>\n",
              "  </div>\n",
              "\n",
              "\n",
              "<div id=\"df-5199858f-587c-425d-9134-a2948674b953\">\n",
              "  <button class=\"colab-df-quickchart\" onclick=\"quickchart('df-5199858f-587c-425d-9134-a2948674b953')\"\n",
              "            title=\"Suggest charts\"\n",
              "            style=\"display:none;\">\n",
              "\n",
              "<svg xmlns=\"http://www.w3.org/2000/svg\" height=\"24px\"viewBox=\"0 0 24 24\"\n",
              "     width=\"24px\">\n",
              "    <g>\n",
              "        <path d=\"M19 3H5c-1.1 0-2 .9-2 2v14c0 1.1.9 2 2 2h14c1.1 0 2-.9 2-2V5c0-1.1-.9-2-2-2zM9 17H7v-7h2v7zm4 0h-2V7h2v10zm4 0h-2v-4h2v4z\"/>\n",
              "    </g>\n",
              "</svg>\n",
              "  </button>\n",
              "\n",
              "<style>\n",
              "  .colab-df-quickchart {\n",
              "      --bg-color: #E8F0FE;\n",
              "      --fill-color: #1967D2;\n",
              "      --hover-bg-color: #E2EBFA;\n",
              "      --hover-fill-color: #174EA6;\n",
              "      --disabled-fill-color: #AAA;\n",
              "      --disabled-bg-color: #DDD;\n",
              "  }\n",
              "\n",
              "  [theme=dark] .colab-df-quickchart {\n",
              "      --bg-color: #3B4455;\n",
              "      --fill-color: #D2E3FC;\n",
              "      --hover-bg-color: #434B5C;\n",
              "      --hover-fill-color: #FFFFFF;\n",
              "      --disabled-bg-color: #3B4455;\n",
              "      --disabled-fill-color: #666;\n",
              "  }\n",
              "\n",
              "  .colab-df-quickchart {\n",
              "    background-color: var(--bg-color);\n",
              "    border: none;\n",
              "    border-radius: 50%;\n",
              "    cursor: pointer;\n",
              "    display: none;\n",
              "    fill: var(--fill-color);\n",
              "    height: 32px;\n",
              "    padding: 0;\n",
              "    width: 32px;\n",
              "  }\n",
              "\n",
              "  .colab-df-quickchart:hover {\n",
              "    background-color: var(--hover-bg-color);\n",
              "    box-shadow: 0 1px 2px rgba(60, 64, 67, 0.3), 0 1px 3px 1px rgba(60, 64, 67, 0.15);\n",
              "    fill: var(--button-hover-fill-color);\n",
              "  }\n",
              "\n",
              "  .colab-df-quickchart-complete:disabled,\n",
              "  .colab-df-quickchart-complete:disabled:hover {\n",
              "    background-color: var(--disabled-bg-color);\n",
              "    fill: var(--disabled-fill-color);\n",
              "    box-shadow: none;\n",
              "  }\n",
              "\n",
              "  .colab-df-spinner {\n",
              "    border: 2px solid var(--fill-color);\n",
              "    border-color: transparent;\n",
              "    border-bottom-color: var(--fill-color);\n",
              "    animation:\n",
              "      spin 1s steps(1) infinite;\n",
              "  }\n",
              "\n",
              "  @keyframes spin {\n",
              "    0% {\n",
              "      border-color: transparent;\n",
              "      border-bottom-color: var(--fill-color);\n",
              "      border-left-color: var(--fill-color);\n",
              "    }\n",
              "    20% {\n",
              "      border-color: transparent;\n",
              "      border-left-color: var(--fill-color);\n",
              "      border-top-color: var(--fill-color);\n",
              "    }\n",
              "    30% {\n",
              "      border-color: transparent;\n",
              "      border-left-color: var(--fill-color);\n",
              "      border-top-color: var(--fill-color);\n",
              "      border-right-color: var(--fill-color);\n",
              "    }\n",
              "    40% {\n",
              "      border-color: transparent;\n",
              "      border-right-color: var(--fill-color);\n",
              "      border-top-color: var(--fill-color);\n",
              "    }\n",
              "    60% {\n",
              "      border-color: transparent;\n",
              "      border-right-color: var(--fill-color);\n",
              "    }\n",
              "    80% {\n",
              "      border-color: transparent;\n",
              "      border-right-color: var(--fill-color);\n",
              "      border-bottom-color: var(--fill-color);\n",
              "    }\n",
              "    90% {\n",
              "      border-color: transparent;\n",
              "      border-bottom-color: var(--fill-color);\n",
              "    }\n",
              "  }\n",
              "</style>\n",
              "\n",
              "  <script>\n",
              "    async function quickchart(key) {\n",
              "      const quickchartButtonEl =\n",
              "        document.querySelector('#' + key + ' button');\n",
              "      quickchartButtonEl.disabled = true;  // To prevent multiple clicks.\n",
              "      quickchartButtonEl.classList.add('colab-df-spinner');\n",
              "      try {\n",
              "        const charts = await google.colab.kernel.invokeFunction(\n",
              "            'suggestCharts', [key], {});\n",
              "      } catch (error) {\n",
              "        console.error('Error during call to suggestCharts:', error);\n",
              "      }\n",
              "      quickchartButtonEl.classList.remove('colab-df-spinner');\n",
              "      quickchartButtonEl.classList.add('colab-df-quickchart-complete');\n",
              "    }\n",
              "    (() => {\n",
              "      let quickchartButtonEl =\n",
              "        document.querySelector('#df-5199858f-587c-425d-9134-a2948674b953 button');\n",
              "      quickchartButtonEl.style.display =\n",
              "        google.colab.kernel.accessAllowed ? 'block' : 'none';\n",
              "    })();\n",
              "  </script>\n",
              "</div>\n",
              "\n",
              "    </div>\n",
              "  </div>\n"
            ],
            "application/vnd.google.colaboratory.intrinsic+json": {
              "type": "dataframe",
              "summary": "{\n  \"name\": \"df\",\n  \"rows\": 5,\n  \"fields\": [\n    {\n      \"column\": \"Dia\",\n      \"properties\": {\n        \"dtype\": \"number\",\n        \"std\": 0,\n        \"min\": 30,\n        \"max\": 30,\n        \"num_unique_values\": 1,\n        \"samples\": [\n          30\n        ],\n        \"semantic_type\": \"\",\n        \"description\": \"\"\n      }\n    },\n    {\n      \"column\": \"Hora\",\n      \"properties\": {\n        \"dtype\": \"number\",\n        \"std\": 0,\n        \"min\": 22,\n        \"max\": 23,\n        \"num_unique_values\": 2,\n        \"samples\": [\n          23\n        ],\n        \"semantic_type\": \"\",\n        \"description\": \"\"\n      }\n    },\n    {\n      \"column\": \"Cliente_ID\",\n      \"properties\": {\n        \"dtype\": \"string\",\n        \"num_unique_values\": 5,\n        \"samples\": [\n          \"30-22-3\"\n        ],\n        \"semantic_type\": \"\",\n        \"description\": \"\"\n      }\n    },\n    {\n      \"column\": \"Tiempo_Entre_Pedidos (min)\",\n      \"properties\": {\n        \"dtype\": \"number\",\n        \"std\": 3,\n        \"min\": 1,\n        \"max\": 8,\n        \"num_unique_values\": 3,\n        \"samples\": [\n          8\n        ],\n        \"semantic_type\": \"\",\n        \"description\": \"\"\n      }\n    },\n    {\n      \"column\": \"Pedidos\",\n      \"properties\": {\n        \"dtype\": \"number\",\n        \"std\": 0,\n        \"min\": 1,\n        \"max\": 3,\n        \"num_unique_values\": 3,\n        \"samples\": [\n          2\n        ],\n        \"semantic_type\": \"\",\n        \"description\": \"\"\n      }\n    }\n  ]\n}"
            }
          },
          "metadata": {},
          "execution_count": 12
        }
      ]
    },
    {
      "cell_type": "code",
      "source": [
        "# Mayor afluencia\n",
        "#help(pd.DataFrame.groupby)\n",
        "hora_concurrida = df.groupby(\"Hora\")[\"Cliente_ID\"].count()\n",
        "hora_concurrida = hora_concurrida.sort_values(ascending=False)\n",
        "print(hora_concurrida)"
      ],
      "metadata": {
        "colab": {
          "base_uri": "https://localhost:8080/"
        },
        "id": "c_33oP5huRV9",
        "outputId": "d11a42e4-b18a-49d9-a349-795f8439280f"
      },
      "execution_count": 25,
      "outputs": [
        {
          "output_type": "stream",
          "name": "stdout",
          "text": [
            "Hora\n",
            "19    278\n",
            "20    278\n",
            "18    237\n",
            "13    226\n",
            "21    226\n",
            "14    189\n",
            "12    166\n",
            "22    161\n",
            "17    123\n",
            "15    115\n",
            "23    115\n",
            "16     95\n",
            "Name: Cliente_ID, dtype: int64\n"
          ]
        }
      ]
    },
    {
      "cell_type": "code",
      "source": [
        "#Dia con mayor clientes\n",
        "dia_concurrido = df.groupby(\"Dia\")[\"Cliente_ID\"].count().reset_index() #Permite que se pueda organizar esa vaina en columna\n",
        "dia_concurridoa = dia_concurrido.sort_values(by=[\"Cliente_ID\"], ascending=False)\n",
        "#dia_mayor_concurrencia = dia_concurridoa.iloc[0]['Dia']\n",
        "print(dia_concurridoa)  # Usando la variable ordenada\n"
      ],
      "metadata": {
        "colab": {
          "base_uri": "https://localhost:8080/"
        },
        "id": "MGzuI59fxC2_",
        "outputId": "1abadb69-d902-44c3-9219-04ab75ddf3b8"
      },
      "execution_count": 43,
      "outputs": [
        {
          "output_type": "stream",
          "name": "stdout",
          "text": [
            "    Dia  Cliente_ID\n",
            "14   15          92\n",
            "11   12          89\n",
            "18   19          84\n",
            "19   20          83\n",
            "26   27          80\n",
            "7     8          79\n",
            "5     6          79\n",
            "27   28          78\n",
            "3     4          78\n",
            "28   29          76\n",
            "22   23          75\n",
            "20   21          75\n",
            "8     9          74\n",
            "4     5          74\n",
            "25   26          74\n",
            "16   17          74\n",
            "29   30          74\n",
            "6     7          73\n",
            "0     1          72\n",
            "13   14          72\n",
            "10   11          69\n",
            "12   13          68\n",
            "2     3          67\n",
            "15   16          67\n",
            "1     2          66\n",
            "9    10          66\n",
            "21   22          65\n",
            "17   18          64\n",
            "23   24          64\n",
            "24   25          58\n"
          ]
        }
      ]
    },
    {
      "cell_type": "code",
      "source": [
        "#Promedio\n",
        "promedio_clientes = df['Cliente_ID'].count()/30\n",
        "print(promedio_clientes) #Promedio clientes en un mes\n",
        "\n",
        "promedio_pedido = df['Pedidos'].sum()/30\n",
        "print(promedio_pedido) #Promedio pedidos en un mes\n",
        "\n",
        "promedio_cliente_pedido = df.groupby('Cliente_ID')['Pedidos'].sum().mean()\n",
        "print(f\"{promedio_cliente_pedido:.2f}\") #Promedio de pedidos por clientes"
      ],
      "metadata": {
        "colab": {
          "base_uri": "https://localhost:8080/"
        },
        "id": "sPWiScm9xjVO",
        "outputId": "7ce0e4a3-f604-4823-dcf8-80e10f979b02"
      },
      "execution_count": 54,
      "outputs": [
        {
          "output_type": "stream",
          "name": "stdout",
          "text": [
            "73.63333333333334\n",
            "145.6\n",
            "1.98\n"
          ]
        }
      ]
    },
    {
      "cell_type": "code",
      "source": [
        "import pandas as pd\n",
        "\n",
        "# Suponiendo que 'df' es tu DataFrame con columnas 'Cliente_ID' y 'Pedidos'\n",
        "promedio_pedidos_por_cliente = df.groupby('Cliente_ID')['Pedidos'].sum().mean()\n",
        "\n",
        "print(f\"Cada cliente hace en promedio {promedio_pedidos_por_cliente:.2f} pedidos.\")"
      ],
      "metadata": {
        "colab": {
          "base_uri": "https://localhost:8080/"
        },
        "id": "JrM_OiOq0H2z",
        "outputId": "9a6c2a34-1cfa-4c1c-fe59-64c0a9222441"
      },
      "execution_count": 51,
      "outputs": [
        {
          "output_type": "stream",
          "name": "stdout",
          "text": [
            "Cada cliente hace en promedio 1.98 pedidos.\n"
          ]
        }
      ]
    },
    {
      "cell_type": "markdown",
      "source": [],
      "metadata": {
        "id": "NsCy_-YpzhHf"
      }
    },
    {
      "cell_type": "markdown",
      "source": [
        "Predicciones\n"
      ],
      "metadata": {
        "id": "I1xSoNJu0tiY"
      }
    },
    {
      "cell_type": "code",
      "source": [
        "#Clientes que puedo esperar en cada hora en promedio\n",
        "import pandas as pd\n",
        "\n",
        "# Suponiendo que 'df' es tu DataFrame con columnas 'Hora' y 'Cliente_ID'\n",
        "lambda_por_hora = df.groupby('Hora')['Cliente_ID'].count().mean()\n",
        "import numpy as np\n",
        "from scipy.stats import poisson\n",
        "\n",
        "# Crear un diccionario para almacenar las predicciones por hora\n",
        "predicciones_por_hora = {}\n",
        "\n",
        "# Iterar sobre las horas y calcular la predicción con Poisson\n",
        "for hora in df['Hora'].unique():\n",
        "  #Usar la distribución de poisson para predecir el numero de clientes para esta hora\n",
        "  prediccion = poisson.rvs(mu=lambda_por_hora)\n",
        "\n",
        "  predicciones_por_hora[hora] = prediccion\n",
        "\n",
        "# Mostrar las predicciones\n",
        "for hora, prediccion in predicciones_por_hora.items():\n",
        "  print(f\"Hora: {hora}, Clientes esperados: {prediccion:.2f}\")"
      ],
      "metadata": {
        "colab": {
          "base_uri": "https://localhost:8080/"
        },
        "id": "0R4yvCFv0vXb",
        "outputId": "a39635e4-6c35-4cfe-ad6b-ee7daf6757be"
      },
      "execution_count": 56,
      "outputs": [
        {
          "output_type": "stream",
          "name": "stdout",
          "text": [
            "Hora: 12, Clientes esperados: 185.00\n",
            "Hora: 13, Clientes esperados: 189.00\n",
            "Hora: 14, Clientes esperados: 197.00\n",
            "Hora: 15, Clientes esperados: 182.00\n",
            "Hora: 16, Clientes esperados: 167.00\n",
            "Hora: 17, Clientes esperados: 186.00\n",
            "Hora: 18, Clientes esperados: 181.00\n",
            "Hora: 19, Clientes esperados: 201.00\n",
            "Hora: 20, Clientes esperados: 162.00\n",
            "Hora: 21, Clientes esperados: 202.00\n",
            "Hora: 22, Clientes esperados: 193.00\n",
            "Hora: 23, Clientes esperados: 189.00\n"
          ]
        }
      ]
    },
    {
      "cell_type": "code",
      "source": [
        "lambda_por_hora = df.groupby('Hora')['Cliente_ID'].count().mean() #Promedio recibido por hora\n",
        "print(lambda_por_hora)\n",
        "\n",
        "\n",
        "esperado = {}\n",
        "\n",
        "for hora in df['Hora'].unique():\n",
        "  prediccion = poisson.rvs(mu=lambda_por_hora)\n",
        "  esperado[hora] = prediccion\n",
        "\n",
        "print(esperado)"
      ],
      "metadata": {
        "colab": {
          "base_uri": "https://localhost:8080/"
        },
        "id": "nSiZHXN123ZO",
        "outputId": "d1d6f2d2-82ca-4433-d506-45196dda5779"
      },
      "execution_count": 69,
      "outputs": [
        {
          "output_type": "stream",
          "name": "stdout",
          "text": [
            "184.08333333333334\n",
            "{12: 196, 13: 190, 14: 193, 15: 166, 16: 188, 17: 181, 18: 192, 19: 164, 20: 185, 21: 185, 22: 200, 23: 183}\n"
          ]
        }
      ]
    },
    {
      "cell_type": "code",
      "source": [
        "import matplotlib.pyplot as plt\n",
        "import numpy as np\n",
        "import pandas as pd\n",
        "from scipy.stats import geom, expon\n",
        "\n",
        "# Asumiendo que 'df' es tu DataFrame con la columna 'Tiempo_Entre_Pedidos (min)'\n",
        "tiempos_entre_clientes = df['Tiempo_Entre_Pedidos (min)']\n",
        "\n",
        "# Histograma de los tiempos reales\n",
        "plt.hist(tiempos_entre_clientes, bins=20, density=True, alpha=0.5, label='Tiempos reales')\n",
        "\n",
        "# Ajustar una distribución geométrica y exponencial\n",
        "p_geom = 1 / tiempos_entre_clientes.mean()  # Parámetro de la geométrica\n",
        "lambda_expon = 1 / tiempos_entre_clientes.mean() # Parámetro de la exponencial\n",
        "\n",
        "# Generar datos teóricos para las distribuciones\n",
        "x_geom = np.arange(tiempos_entre_clientes.min(), tiempos_entre_clientes.max() + 1)\n",
        "x_expon = np.linspace(tiempos_entre_clientes.min(), tiempos_entre_clientes.max(), 100)\n",
        "\n",
        "# Graficar las distribuciones teóricas\n",
        "plt.plot(x_geom, geom.pmf(x_geom, p_geom), label='Geométrica')\n",
        "plt.plot(x_expon, expon.pdf(x_expon, scale=1/lambda_expon), label='Exponencial')\n",
        "\n",
        "plt.legend()\n",
        "plt.title('Comparación de distribuciones')\n",
        "plt.xlabel('Tiempo entre clientes (min)')\n",
        "plt.ylabel('Densidad')\n",
        "plt.show()"
      ],
      "metadata": {
        "colab": {
          "base_uri": "https://localhost:8080/",
          "height": 472
        },
        "id": "Y6L9QegM6Z49",
        "outputId": "15c868dc-fb9a-418c-a271-741cf617a0b9"
      },
      "execution_count": 70,
      "outputs": [
        {
          "output_type": "display_data",
          "data": {
            "text/plain": [
              "<Figure size 640x480 with 1 Axes>"
            ],
            "image/png": "[encoded data removed]"
          },
          "metadata": {}
        }
      ]
    },
    {
      "cell_type": "markdown",
      "source": [
        "Con esa grafica podemos analizar la probabilidad de que vengan en -5 minutos o una vaina asi, sacando las formulas de la geometrica y exponencial ok\n"
      ],
      "metadata": {
        "id": "g1MYvEMLw1FD"
      }
    },
    {
      "cell_type": "code",
      "source": [],
      "metadata": {
        "id": "_AQNZmwA8bjI"
      },
      "execution_count": null,
      "outputs": []
    }
  ]
}